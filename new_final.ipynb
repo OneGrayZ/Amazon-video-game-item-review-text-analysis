{
 "cells": [
  {
   "cell_type": "code",
   "execution_count": 2,
   "metadata": {},
   "outputs": [],
   "source": [
    "import pandas as pd\n",
    "import numpy as np\n",
    "import json"
   ]
  },
  {
   "cell_type": "markdown",
   "metadata": {},
   "source": [
    "## Loading Data"
   ]
  },
  {
   "cell_type": "code",
   "execution_count": 2,
   "metadata": {},
   "outputs": [],
   "source": [
    "df1 = []\n",
    "file = 'Video_Games.jsonl'\n",
    "with open(file, 'r') as fp:\n",
    "    for line in fp:\n",
    "        df1.append(json.loads(line.strip()))"
   ]
  },
  {
   "cell_type": "code",
   "execution_count": 3,
   "metadata": {},
   "outputs": [
    {
     "data": {
      "text/html": [
       "<div>\n",
       "<style scoped>\n",
       "    .dataframe tbody tr th:only-of-type {\n",
       "        vertical-align: middle;\n",
       "    }\n",
       "\n",
       "    .dataframe tbody tr th {\n",
       "        vertical-align: top;\n",
       "    }\n",
       "\n",
       "    .dataframe thead th {\n",
       "        text-align: right;\n",
       "    }\n",
       "</style>\n",
       "<table border=\"1\" class=\"dataframe\">\n",
       "  <thead>\n",
       "    <tr style=\"text-align: right;\">\n",
       "      <th></th>\n",
       "      <th>rating</th>\n",
       "      <th>title</th>\n",
       "      <th>text</th>\n",
       "      <th>images</th>\n",
       "      <th>asin</th>\n",
       "      <th>parent_asin</th>\n",
       "      <th>user_id</th>\n",
       "      <th>timestamp</th>\n",
       "      <th>helpful_vote</th>\n",
       "      <th>verified_purchase</th>\n",
       "    </tr>\n",
       "  </thead>\n",
       "  <tbody>\n",
       "    <tr>\n",
       "      <th>0</th>\n",
       "      <td>4.0</td>\n",
       "      <td>It’s pretty sexual. Not my fav</td>\n",
       "      <td>I’m playing on ps5 and it’s interesting.  It’s...</td>\n",
       "      <td>[]</td>\n",
       "      <td>B07DJWBYKP</td>\n",
       "      <td>B07DK1H3H5</td>\n",
       "      <td>AGCI7FAH4GL5FI65HYLKWTMFZ2CQ</td>\n",
       "      <td>1608186804795</td>\n",
       "      <td>0</td>\n",
       "      <td>True</td>\n",
       "    </tr>\n",
       "    <tr>\n",
       "      <th>1</th>\n",
       "      <td>5.0</td>\n",
       "      <td>Good. A bit slow</td>\n",
       "      <td>Nostalgic fun.  A bit slow.  I hope they don’t...</td>\n",
       "      <td>[]</td>\n",
       "      <td>B00ZS80PC2</td>\n",
       "      <td>B07SRWRH5D</td>\n",
       "      <td>AGCI7FAH4GL5FI65HYLKWTMFZ2CQ</td>\n",
       "      <td>1587051114941</td>\n",
       "      <td>1</td>\n",
       "      <td>False</td>\n",
       "    </tr>\n",
       "    <tr>\n",
       "      <th>2</th>\n",
       "      <td>5.0</td>\n",
       "      <td>... an order for my kids &amp; they have really en...</td>\n",
       "      <td>This was an order for my kids &amp; they have real...</td>\n",
       "      <td>[]</td>\n",
       "      <td>B01FEHJYUU</td>\n",
       "      <td>B07MFMFW34</td>\n",
       "      <td>AGXVBIUFLFGMVLATYXHJYL4A5Q7Q</td>\n",
       "      <td>1490877431000</td>\n",
       "      <td>0</td>\n",
       "      <td>True</td>\n",
       "    </tr>\n",
       "    <tr>\n",
       "      <th>3</th>\n",
       "      <td>5.0</td>\n",
       "      <td>Great alt to pro controller</td>\n",
       "      <td>These work great, They use batteries which is ...</td>\n",
       "      <td>[]</td>\n",
       "      <td>B07GXJHRVK</td>\n",
       "      <td>B0BCHWZX95</td>\n",
       "      <td>AFTC6ZR5IKNRDG5JCPVNVMU3XV2Q</td>\n",
       "      <td>1577637634017</td>\n",
       "      <td>0</td>\n",
       "      <td>True</td>\n",
       "    </tr>\n",
       "    <tr>\n",
       "      <th>4</th>\n",
       "      <td>5.0</td>\n",
       "      <td>solid product</td>\n",
       "      <td>I would recommend to anyone looking to add jus...</td>\n",
       "      <td>[]</td>\n",
       "      <td>B00HUWA45W</td>\n",
       "      <td>B00HUWA45W</td>\n",
       "      <td>AFTC6ZR5IKNRDG5JCPVNVMU3XV2Q</td>\n",
       "      <td>1427591932000</td>\n",
       "      <td>0</td>\n",
       "      <td>True</td>\n",
       "    </tr>\n",
       "  </tbody>\n",
       "</table>\n",
       "</div>"
      ],
      "text/plain": [
       "   rating                                              title  \\\n",
       "0     4.0                     It’s pretty sexual. Not my fav   \n",
       "1     5.0                                   Good. A bit slow   \n",
       "2     5.0  ... an order for my kids & they have really en...   \n",
       "3     5.0                        Great alt to pro controller   \n",
       "4     5.0                                      solid product   \n",
       "\n",
       "                                                text images        asin  \\\n",
       "0  I’m playing on ps5 and it’s interesting.  It’s...     []  B07DJWBYKP   \n",
       "1  Nostalgic fun.  A bit slow.  I hope they don’t...     []  B00ZS80PC2   \n",
       "2  This was an order for my kids & they have real...     []  B01FEHJYUU   \n",
       "3  These work great, They use batteries which is ...     []  B07GXJHRVK   \n",
       "4  I would recommend to anyone looking to add jus...     []  B00HUWA45W   \n",
       "\n",
       "  parent_asin                       user_id      timestamp  helpful_vote  \\\n",
       "0  B07DK1H3H5  AGCI7FAH4GL5FI65HYLKWTMFZ2CQ  1608186804795             0   \n",
       "1  B07SRWRH5D  AGCI7FAH4GL5FI65HYLKWTMFZ2CQ  1587051114941             1   \n",
       "2  B07MFMFW34  AGXVBIUFLFGMVLATYXHJYL4A5Q7Q  1490877431000             0   \n",
       "3  B0BCHWZX95  AFTC6ZR5IKNRDG5JCPVNVMU3XV2Q  1577637634017             0   \n",
       "4  B00HUWA45W  AFTC6ZR5IKNRDG5JCPVNVMU3XV2Q  1427591932000             0   \n",
       "\n",
       "   verified_purchase  \n",
       "0               True  \n",
       "1              False  \n",
       "2               True  \n",
       "3               True  \n",
       "4               True  "
      ]
     },
     "execution_count": 3,
     "metadata": {},
     "output_type": "execute_result"
    }
   ],
   "source": [
    "df1 = pd.DataFrame(df1)\n",
    "df1.head()"
   ]
  },
  {
   "cell_type": "markdown",
   "metadata": {},
   "source": [
    "## Data Preview"
   ]
  },
  {
   "cell_type": "code",
   "execution_count": 4,
   "metadata": {},
   "outputs": [
    {
     "data": {
      "text/plain": [
       "((4624615, 10),\n",
       " rating               0\n",
       " title                0\n",
       " text                 0\n",
       " images               0\n",
       " asin                 0\n",
       " parent_asin          0\n",
       " user_id              0\n",
       " timestamp            0\n",
       " helpful_vote         0\n",
       " verified_purchase    0\n",
       " dtype: int64)"
      ]
     },
     "execution_count": 4,
     "metadata": {},
     "output_type": "execute_result"
    }
   ],
   "source": [
    "df1.shape, df1.isna().sum()"
   ]
  },
  {
   "cell_type": "code",
   "execution_count": 5,
   "metadata": {},
   "outputs": [
    {
     "data": {
      "text/plain": [
       "<AxesSubplot:title={'center':'Figure 1: Video Game Rating Distribution From Users'}, ylabel='Frequency'>"
      ]
     },
     "execution_count": 5,
     "metadata": {},
     "output_type": "execute_result"
    },
    {
     "data": {
      "image/png": "[encoded data removed]",
      "text/plain": [
       "<Figure size 640x480 with 1 Axes>"
      ]
     },
     "metadata": {},
     "output_type": "display_data"
    }
   ],
   "source": [
    "df1['rating'].plot(kind='hist', bins=5, title='Figure 1: Video Game Rating Distribution From Users') "
   ]
  },
  {
   "cell_type": "markdown",
   "metadata": {},
   "source": [
    "## Data Selecting, Cleaning, and Transformation"
   ]
  },
  {
   "cell_type": "code",
   "execution_count": 6,
   "metadata": {},
   "outputs": [
    {
     "data": {
      "text/html": [
       "<div>\n",
       "<style scoped>\n",
       "    .dataframe tbody tr th:only-of-type {\n",
       "        vertical-align: middle;\n",
       "    }\n",
       "\n",
       "    .dataframe tbody tr th {\n",
       "        vertical-align: top;\n",
       "    }\n",
       "\n",
       "    .dataframe thead th {\n",
       "        text-align: right;\n",
       "    }\n",
       "</style>\n",
       "<table border=\"1\" class=\"dataframe\">\n",
       "  <thead>\n",
       "    <tr style=\"text-align: right;\">\n",
       "      <th></th>\n",
       "      <th>rating</th>\n",
       "      <th>title</th>\n",
       "      <th>text</th>\n",
       "      <th>images</th>\n",
       "      <th>asin</th>\n",
       "      <th>parent_asin</th>\n",
       "      <th>user_id</th>\n",
       "      <th>timestamp</th>\n",
       "      <th>helpful_vote</th>\n",
       "      <th>has_review_image</th>\n",
       "    </tr>\n",
       "  </thead>\n",
       "  <tbody>\n",
       "    <tr>\n",
       "      <th>0</th>\n",
       "      <td>5.0</td>\n",
       "      <td>Nice product.</td>\n",
       "      <td>They do the job. Nice product.</td>\n",
       "      <td>[]</td>\n",
       "      <td>B01N1N0VQ1</td>\n",
       "      <td>B07FR9JSN7</td>\n",
       "      <td>AH2ZBEKCR5NKSRTW4MISMNZK7W4Q</td>\n",
       "      <td>1508164670310</td>\n",
       "      <td>0</td>\n",
       "      <td>0</td>\n",
       "    </tr>\n",
       "    <tr>\n",
       "      <th>1</th>\n",
       "      <td>5.0</td>\n",
       "      <td>Would recommend, but a little big.</td>\n",
       "      <td>I received the product this week and will upda...</td>\n",
       "      <td>[]</td>\n",
       "      <td>B00Y824ZZ2</td>\n",
       "      <td>B098NVRQW2</td>\n",
       "      <td>AESPLXQWG7KUQADGERQ3WQU4ZKUQ</td>\n",
       "      <td>1457712940000</td>\n",
       "      <td>0</td>\n",
       "      <td>0</td>\n",
       "    </tr>\n",
       "    <tr>\n",
       "      <th>2</th>\n",
       "      <td>3.0</td>\n",
       "      <td>Hurts to wear</td>\n",
       "      <td>Far as noise cancellation and sound quality, t...</td>\n",
       "      <td>[]</td>\n",
       "      <td>B08FX35S7K</td>\n",
       "      <td>B0C3C23NH9</td>\n",
       "      <td>AH5HU6QZRZDNJBOUIWN6BB56RYMQ</td>\n",
       "      <td>1655717695991</td>\n",
       "      <td>1</td>\n",
       "      <td>0</td>\n",
       "    </tr>\n",
       "    <tr>\n",
       "      <th>3</th>\n",
       "      <td>5.0</td>\n",
       "      <td>Better than what they say</td>\n",
       "      <td>I was half tempted to wait on this one but I b...</td>\n",
       "      <td>[]</td>\n",
       "      <td>B08PK6RJ72</td>\n",
       "      <td>B08PK6TG7Y</td>\n",
       "      <td>AEDO4CXKW7E7P3JTST4T2YCVFYLA</td>\n",
       "      <td>1617878727669</td>\n",
       "      <td>0</td>\n",
       "      <td>0</td>\n",
       "    </tr>\n",
       "    <tr>\n",
       "      <th>4</th>\n",
       "      <td>1.0</td>\n",
       "      <td>Garbage knock offs</td>\n",
       "      <td>Save your money .Buy the real thing .</td>\n",
       "      <td>[]</td>\n",
       "      <td>B07NR3M3V1</td>\n",
       "      <td>B0C2K279P4</td>\n",
       "      <td>AEXXYJXYWATUY63NCQSL3D6IMLHA</td>\n",
       "      <td>1620940978691</td>\n",
       "      <td>0</td>\n",
       "      <td>0</td>\n",
       "    </tr>\n",
       "  </tbody>\n",
       "</table>\n",
       "</div>"
      ],
      "text/plain": [
       "   rating                               title  \\\n",
       "0     5.0                       Nice product.   \n",
       "1     5.0  Would recommend, but a little big.   \n",
       "2     3.0                       Hurts to wear   \n",
       "3     5.0           Better than what they say   \n",
       "4     1.0                  Garbage knock offs   \n",
       "\n",
       "                                                text images        asin  \\\n",
       "0                     They do the job. Nice product.     []  B01N1N0VQ1   \n",
       "1  I received the product this week and will upda...     []  B00Y824ZZ2   \n",
       "2  Far as noise cancellation and sound quality, t...     []  B08FX35S7K   \n",
       "3  I was half tempted to wait on this one but I b...     []  B08PK6RJ72   \n",
       "4              Save your money .Buy the real thing .     []  B07NR3M3V1   \n",
       "\n",
       "  parent_asin                       user_id      timestamp  helpful_vote  \\\n",
       "0  B07FR9JSN7  AH2ZBEKCR5NKSRTW4MISMNZK7W4Q  1508164670310             0   \n",
       "1  B098NVRQW2  AESPLXQWG7KUQADGERQ3WQU4ZKUQ  1457712940000             0   \n",
       "2  B0C3C23NH9  AH5HU6QZRZDNJBOUIWN6BB56RYMQ  1655717695991             1   \n",
       "3  B08PK6TG7Y  AEDO4CXKW7E7P3JTST4T2YCVFYLA  1617878727669             0   \n",
       "4  B0C2K279P4  AEXXYJXYWATUY63NCQSL3D6IMLHA  1620940978691             0   \n",
       "\n",
       "   has_review_image  \n",
       "0                 0  \n",
       "1                 0  \n",
       "2                 0  \n",
       "3                 0  \n",
       "4                 0  "
      ]
     },
     "execution_count": 6,
     "metadata": {},
     "output_type": "execute_result"
    }
   ],
   "source": [
    "### Only focus on the verified purchase reviews and randomly sample 250,000 reviews since the dataset is too large\n",
    "clean_df1 = df1[df1['verified_purchase'] == True].sample(n=250000, random_state=42).reset_index().drop(columns=['verified_purchase', 'index'])\n",
    "### Transform the image column to True/False\n",
    "clean_df1['has_review_image'] = clean_df1['images'].apply(lambda x: 1 if len(x) != 0 else 0)\n",
    "clean_df1.head()"
   ]
  },
  {
   "cell_type": "code",
   "execution_count": 7,
   "metadata": {},
   "outputs": [
    {
     "data": {
      "text/plain": [
       "<AxesSubplot:title={'center':'Figure 2: Video Game Rating Distribution From Users From Sample Data'}, ylabel='Frequency'>"
      ]
     },
     "execution_count": 7,
     "metadata": {},
     "output_type": "execute_result"
    },
    {
     "data": {
      "image/png": "[encoded data removed]",
      "text/plain": [
       "<Figure size 640x480 with 1 Axes>"
      ]
     },
     "metadata": {},
     "output_type": "display_data"
    }
   ],
   "source": [
    "clean_df1['rating'].plot(kind='hist', bins=5, title='Figure 2: Video Game Rating Distribution From Users From Sample Data') "
   ]
  },
  {
   "cell_type": "code",
   "execution_count": 8,
   "metadata": {},
   "outputs": [],
   "source": [
    "### Transform the rating to positive(1) and negative(0)\n",
    "clean_df1['rating'] = clean_df1['rating'].apply(lambda x: 1 if x > 4 else (0 if x > 2 else -1))"
   ]
  },
  {
   "cell_type": "code",
   "execution_count": 14,
   "metadata": {},
   "outputs": [
    {
     "data": {
      "image/png": "[encoded data removed]",
      "text/plain": [
       "<Figure size 640x480 with 1 Axes>"
      ]
     },
     "metadata": {},
     "output_type": "display_data"
    }
   ],
   "source": [
    "import matplotlib.pyplot as plt\n",
    "\n",
    "plt.hist(\n",
    "        clean_df1[clean_df1['rating'] == -1]['has_review_image'],\n",
    "        bins=2, alpha=0.5, label='negative review', color=\"green\", stacked=True\n",
    "    )\n",
    "plt.hist(\n",
    "        clean_df1[clean_df1['rating'] == 0]['has_review_image'],\n",
    "        bins=2, alpha=0.5, label='neutral review', color=\"blue\", stacked=True\n",
    "    )\n",
    "plt.hist(\n",
    "        clean_df1[clean_df1['rating'] == 1]['has_review_image'],\n",
    "        bins=2, alpha=0.5, label='positive review', color='red', stacked=True\n",
    "    )\n",
    "\n",
    "plt.title('Figure 5: Distribution of Has Review Image Between Positive and Negative Reviews')\n",
    "plt.xlabel(\"Has Review Image\")\n",
    "plt.ylabel(\"Frequency\")\n",
    "plt.legend()\n",
    "plt.show()\n"
   ]
  },
  {
   "cell_type": "code",
   "execution_count": 13,
   "metadata": {},
   "outputs": [
    {
     "data": {
      "text/plain": [
       "(has_review_image      no   yes\n",
       " rating                        \n",
       " negative           40360  2207\n",
       " neutral            47207  1924\n",
       " positive          151413  6889,\n",
       " has_review_image        no       yes\n",
       " rating                              \n",
       " negative          0.948152  0.051848\n",
       " neutral           0.960839  0.039161\n",
       " positive          0.956482  0.043518)"
      ]
     },
     "execution_count": 13,
     "metadata": {},
     "output_type": "execute_result"
    }
   ],
   "source": [
    "### shows the proportion of negative reviews with image is a bit higher than the positive reviews with image\n",
    "(clean_df1.groupby(['rating', 'has_review_image']).size().unstack().rename(index={1: 'positive', 0: 'neutral', -1: 'negative'}, columns={1: 'yes', 0: 'no'}),\n",
    "clean_df1.groupby(['rating', 'has_review_image']).size().unstack().apply(lambda x: x / x.sum(), axis=1).rename(index={1: 'positive', 0: 'neutral', -1: 'negative'}, columns={1: 'yes', 0: 'no'}))"
   ]
  },
  {
   "cell_type": "code",
   "execution_count": 15,
   "metadata": {},
   "outputs": [
    {
     "data": {
      "image/png": "[encoded data removed]",
      "text/plain": [
       "<Figure size 640x480 with 1 Axes>"
      ]
     },
     "metadata": {},
     "output_type": "display_data"
    }
   ],
   "source": [
    "import matplotlib.pyplot as plt\n",
    "plt.hist(\n",
    "        clean_df1[clean_df1['rating'] == -1]['helpful_vote'],\n",
    "        bins=100, alpha=0.5, label='negative review', color=\"green\", stacked=True\n",
    "    )\n",
    "plt.hist(\n",
    "        clean_df1[clean_df1['rating'] == 0]['helpful_vote'],\n",
    "        bins=100, alpha=0.5, label='neutral review', color=\"blue\", stacked=True\n",
    "    )\n",
    "plt.hist(\n",
    "        clean_df1[clean_df1['rating'] == 1]['helpful_vote'],\n",
    "        bins=100, alpha=0.5, label='positive review', color='red', stacked=True\n",
    "    )\n",
    "\n",
    "plt.title('Figure 6: Distribution of helpful vote Between Positive and Negative Reviews')\n",
    "plt.xlabel(\"Helpful Vote\")\n",
    "plt.ylabel(\"Frequency\")\n",
    "plt.legend()\n",
    "plt.show()"
   ]
  },
  {
   "cell_type": "code",
   "execution_count": 16,
   "metadata": {},
   "outputs": [
    {
     "data": {
      "text/html": [
       "<div>\n",
       "<style scoped>\n",
       "    .dataframe tbody tr th:only-of-type {\n",
       "        vertical-align: middle;\n",
       "    }\n",
       "\n",
       "    .dataframe tbody tr th {\n",
       "        vertical-align: top;\n",
       "    }\n",
       "\n",
       "    .dataframe thead th {\n",
       "        text-align: right;\n",
       "    }\n",
       "</style>\n",
       "<table border=\"1\" class=\"dataframe\">\n",
       "  <thead>\n",
       "    <tr style=\"text-align: right;\">\n",
       "      <th></th>\n",
       "      <th>count</th>\n",
       "      <th>mean</th>\n",
       "      <th>std</th>\n",
       "      <th>min</th>\n",
       "      <th>25%</th>\n",
       "      <th>50%</th>\n",
       "      <th>75%</th>\n",
       "      <th>max</th>\n",
       "    </tr>\n",
       "    <tr>\n",
       "      <th>rating</th>\n",
       "      <th></th>\n",
       "      <th></th>\n",
       "      <th></th>\n",
       "      <th></th>\n",
       "      <th></th>\n",
       "      <th></th>\n",
       "      <th></th>\n",
       "      <th></th>\n",
       "    </tr>\n",
       "  </thead>\n",
       "  <tbody>\n",
       "    <tr>\n",
       "      <th>negative</th>\n",
       "      <td>42567.0</td>\n",
       "      <td>1.527028</td>\n",
       "      <td>11.733952</td>\n",
       "      <td>0.0</td>\n",
       "      <td>0.0</td>\n",
       "      <td>0.0</td>\n",
       "      <td>1.0</td>\n",
       "      <td>1524.0</td>\n",
       "    </tr>\n",
       "    <tr>\n",
       "      <th>neutral</th>\n",
       "      <td>49131.0</td>\n",
       "      <td>0.978527</td>\n",
       "      <td>10.639052</td>\n",
       "      <td>0.0</td>\n",
       "      <td>0.0</td>\n",
       "      <td>0.0</td>\n",
       "      <td>1.0</td>\n",
       "      <td>1259.0</td>\n",
       "    </tr>\n",
       "    <tr>\n",
       "      <th>positive</th>\n",
       "      <td>158302.0</td>\n",
       "      <td>0.650693</td>\n",
       "      <td>6.372601</td>\n",
       "      <td>-1.0</td>\n",
       "      <td>0.0</td>\n",
       "      <td>0.0</td>\n",
       "      <td>0.0</td>\n",
       "      <td>837.0</td>\n",
       "    </tr>\n",
       "  </tbody>\n",
       "</table>\n",
       "</div>"
      ],
      "text/plain": [
       "             count      mean        std  min  25%  50%  75%     max\n",
       "rating                                                             \n",
       "negative   42567.0  1.527028  11.733952  0.0  0.0  0.0  1.0  1524.0\n",
       "neutral    49131.0  0.978527  10.639052  0.0  0.0  0.0  1.0  1259.0\n",
       "positive  158302.0  0.650693   6.372601 -1.0  0.0  0.0  0.0   837.0"
      ]
     },
     "execution_count": 16,
     "metadata": {},
     "output_type": "execute_result"
    }
   ],
   "source": [
    "clean_df1.groupby(['rating'])['helpful_vote'].describe().rename(index={1: 'positive', 0: 'neutral', -1: 'negative'})"
   ]
  },
  {
   "cell_type": "code",
   "execution_count": 11,
   "metadata": {},
   "outputs": [
    {
     "data": {
      "image/png": "[encoded data removed]",
      "text/plain": [
       "<Figure size 640x480 with 1 Axes>"
      ]
     },
     "metadata": {},
     "output_type": "display_data"
    }
   ],
   "source": [
    "plt.hist(\n",
    "        clean_df1[clean_df1['rating'] == -1]['title_wordcount'],\n",
    "        bins=100, alpha=0.5, label='negative review', color=\"green\", stacked=True\n",
    "    )\n",
    "plt.hist(\n",
    "        clean_df1[clean_df1['rating'] == 0]['title_wordcount'],\n",
    "        bins=100, alpha=0.5, label='neutral review', color=\"blue\", stacked=True\n",
    "    )\n",
    "plt.hist(\n",
    "        clean_df1[clean_df1['rating'] == 1]['title_wordcount'],\n",
    "        bins=100, alpha=0.5, label='positive review', color='red', stacked=True\n",
    "    )\n",
    "\n",
    "plt.title('Figure 3: Distribution of title word count Between Positive and Negative Reviews')\n",
    "plt.xlabel(\"title word count\")\n",
    "plt.ylabel(\"Frequency\")\n",
    "plt.legend()\n",
    "plt.show()"
   ]
  },
  {
   "cell_type": "code",
   "execution_count": 17,
   "metadata": {},
   "outputs": [
    {
     "data": {
      "text/html": [
       "<div>\n",
       "<style scoped>\n",
       "    .dataframe tbody tr th:only-of-type {\n",
       "        vertical-align: middle;\n",
       "    }\n",
       "\n",
       "    .dataframe tbody tr th {\n",
       "        vertical-align: top;\n",
       "    }\n",
       "\n",
       "    .dataframe thead th {\n",
       "        text-align: right;\n",
       "    }\n",
       "</style>\n",
       "<table border=\"1\" class=\"dataframe\">\n",
       "  <thead>\n",
       "    <tr style=\"text-align: right;\">\n",
       "      <th></th>\n",
       "      <th>count</th>\n",
       "      <th>mean</th>\n",
       "      <th>std</th>\n",
       "      <th>min</th>\n",
       "      <th>25%</th>\n",
       "      <th>50%</th>\n",
       "      <th>75%</th>\n",
       "      <th>max</th>\n",
       "    </tr>\n",
       "    <tr>\n",
       "      <th>rating</th>\n",
       "      <th></th>\n",
       "      <th></th>\n",
       "      <th></th>\n",
       "      <th></th>\n",
       "      <th></th>\n",
       "      <th></th>\n",
       "      <th></th>\n",
       "      <th></th>\n",
       "    </tr>\n",
       "  </thead>\n",
       "  <tbody>\n",
       "    <tr>\n",
       "      <th>negative</th>\n",
       "      <td>42567.0</td>\n",
       "      <td>4.790800</td>\n",
       "      <td>3.573100</td>\n",
       "      <td>1.0</td>\n",
       "      <td>2.0</td>\n",
       "      <td>4.0</td>\n",
       "      <td>6.0</td>\n",
       "      <td>56.0</td>\n",
       "    </tr>\n",
       "    <tr>\n",
       "      <th>neutral</th>\n",
       "      <td>49131.0</td>\n",
       "      <td>4.812400</td>\n",
       "      <td>3.641764</td>\n",
       "      <td>1.0</td>\n",
       "      <td>2.0</td>\n",
       "      <td>4.0</td>\n",
       "      <td>6.0</td>\n",
       "      <td>41.0</td>\n",
       "    </tr>\n",
       "    <tr>\n",
       "      <th>positive</th>\n",
       "      <td>158302.0</td>\n",
       "      <td>3.661312</td>\n",
       "      <td>2.994905</td>\n",
       "      <td>1.0</td>\n",
       "      <td>2.0</td>\n",
       "      <td>2.0</td>\n",
       "      <td>5.0</td>\n",
       "      <td>47.0</td>\n",
       "    </tr>\n",
       "  </tbody>\n",
       "</table>\n",
       "</div>"
      ],
      "text/plain": [
       "             count      mean       std  min  25%  50%  75%   max\n",
       "rating                                                          \n",
       "negative   42567.0  4.790800  3.573100  1.0  2.0  4.0  6.0  56.0\n",
       "neutral    49131.0  4.812400  3.641764  1.0  2.0  4.0  6.0  41.0\n",
       "positive  158302.0  3.661312  2.994905  1.0  2.0  2.0  5.0  47.0"
      ]
     },
     "execution_count": 17,
     "metadata": {},
     "output_type": "execute_result"
    }
   ],
   "source": [
    "clean_df1.groupby(['rating'])['title_wordcount'].describe().rename(index={1: 'positive', 0: 'neutral', -1: 'negative'})"
   ]
  },
  {
   "cell_type": "code",
   "execution_count": 13,
   "metadata": {},
   "outputs": [
    {
     "data": {
      "image/png": "[encoded data removed]",
      "text/plain": [
       "<Figure size 640x480 with 1 Axes>"
      ]
     },
     "metadata": {},
     "output_type": "display_data"
    }
   ],
   "source": [
    "plt.hist(\n",
    "        clean_df1[clean_df1['rating'] == -1]['text_wordcount'],\n",
    "        bins=100, alpha=0.5, label='negative review', color=\"green\", stacked=True\n",
    "    )\n",
    "plt.hist(\n",
    "        clean_df1[clean_df1['rating'] == 0]['text_wordcount'],\n",
    "        bins=100, alpha=0.5, label='neutral review', color=\"blue\", stacked=True\n",
    "    )\n",
    "plt.hist(\n",
    "        clean_df1[clean_df1['rating'] == 1]['text_wordcount'],\n",
    "        bins=100, alpha=0.5, label='positive review', color='red', stacked=True\n",
    "    )\n",
    "\n",
    "plt.title('Figure 4: Distribution of text word count Between Positive and Negative Reviews')\n",
    "plt.xlabel(\"text word count\")\n",
    "plt.ylabel(\"Frequency\")\n",
    "plt.legend()\n",
    "plt.show()"
   ]
  },
  {
   "cell_type": "code",
   "execution_count": 18,
   "metadata": {},
   "outputs": [
    {
     "data": {
      "text/html": [
       "<div>\n",
       "<style scoped>\n",
       "    .dataframe tbody tr th:only-of-type {\n",
       "        vertical-align: middle;\n",
       "    }\n",
       "\n",
       "    .dataframe tbody tr th {\n",
       "        vertical-align: top;\n",
       "    }\n",
       "\n",
       "    .dataframe thead th {\n",
       "        text-align: right;\n",
       "    }\n",
       "</style>\n",
       "<table border=\"1\" class=\"dataframe\">\n",
       "  <thead>\n",
       "    <tr style=\"text-align: right;\">\n",
       "      <th></th>\n",
       "      <th>count</th>\n",
       "      <th>mean</th>\n",
       "      <th>std</th>\n",
       "      <th>min</th>\n",
       "      <th>25%</th>\n",
       "      <th>50%</th>\n",
       "      <th>75%</th>\n",
       "      <th>max</th>\n",
       "    </tr>\n",
       "    <tr>\n",
       "      <th>rating</th>\n",
       "      <th></th>\n",
       "      <th></th>\n",
       "      <th></th>\n",
       "      <th></th>\n",
       "      <th></th>\n",
       "      <th></th>\n",
       "      <th></th>\n",
       "      <th></th>\n",
       "    </tr>\n",
       "  </thead>\n",
       "  <tbody>\n",
       "    <tr>\n",
       "      <th>negative</th>\n",
       "      <td>42567.0</td>\n",
       "      <td>52.146733</td>\n",
       "      <td>81.043580</td>\n",
       "      <td>0.0</td>\n",
       "      <td>14.0</td>\n",
       "      <td>30.0</td>\n",
       "      <td>60.0</td>\n",
       "      <td>2346.0</td>\n",
       "    </tr>\n",
       "    <tr>\n",
       "      <th>neutral</th>\n",
       "      <td>49131.0</td>\n",
       "      <td>63.961959</td>\n",
       "      <td>109.060499</td>\n",
       "      <td>0.0</td>\n",
       "      <td>15.0</td>\n",
       "      <td>33.0</td>\n",
       "      <td>70.0</td>\n",
       "      <td>2717.0</td>\n",
       "    </tr>\n",
       "    <tr>\n",
       "      <th>positive</th>\n",
       "      <td>158302.0</td>\n",
       "      <td>33.075975</td>\n",
       "      <td>64.669572</td>\n",
       "      <td>0.0</td>\n",
       "      <td>6.0</td>\n",
       "      <td>16.0</td>\n",
       "      <td>36.0</td>\n",
       "      <td>3247.0</td>\n",
       "    </tr>\n",
       "  </tbody>\n",
       "</table>\n",
       "</div>"
      ],
      "text/plain": [
       "             count       mean         std  min   25%   50%   75%     max\n",
       "rating                                                                  \n",
       "negative   42567.0  52.146733   81.043580  0.0  14.0  30.0  60.0  2346.0\n",
       "neutral    49131.0  63.961959  109.060499  0.0  15.0  33.0  70.0  2717.0\n",
       "positive  158302.0  33.075975   64.669572  0.0   6.0  16.0  36.0  3247.0"
      ]
     },
     "execution_count": 18,
     "metadata": {},
     "output_type": "execute_result"
    }
   ],
   "source": [
    "clean_df1.groupby(['rating'])['text_wordcount'].describe().rename(index={1: 'positive', 0: 'neutral', -1: 'negative'})"
   ]
  },
  {
   "cell_type": "code",
   "execution_count": 8,
   "metadata": {},
   "outputs": [
    {
     "data": {
      "text/plain": [
       "<AxesSubplot:title={'center':'Figure 2: Number of Reviews for Each Rating On Sample'}, xlabel='rating'>"
      ]
     },
     "execution_count": 8,
     "metadata": {},
     "output_type": "execute_result"
    },
    {
     "data": {
      "image/png": "[encoded data removed]",
      "text/plain": [
       "<Figure size 640x480 with 1 Axes>"
      ]
     },
     "metadata": {},
     "output_type": "display_data"
    }
   ],
   "source": [
    "clean_df1.groupby('rating')['title'].count().rename(index={1: 'positive', 0: 'neutral', -1: 'negative'}).plot(kind='bar', title='Figure 2: Number of Reviews for Each Rating On Sample')"
   ]
  },
  {
   "cell_type": "code",
   "execution_count": null,
   "metadata": {},
   "outputs": [],
   "source": [
    "clean_df1.to_csv('sample_video_game_reviews.csv', index=False)"
   ]
  },
  {
   "cell_type": "markdown",
   "metadata": {},
   "source": [
    "## Train Test Split"
   ]
  },
  {
   "cell_type": "code",
   "execution_count": 1,
   "metadata": {},
   "outputs": [
    {
     "data": {
      "text/plain": [
       "((200000, 6), (50000, 6), (200000,), (50000,))"
      ]
     },
     "execution_count": 1,
     "metadata": {},
     "output_type": "execute_result"
    }
   ],
   "source": [
    "import pandas as pd\n",
    "import numpy as np\n",
    "from sklearn.model_selection import train_test_split\n",
    "\n",
    "clean_df1 = pd.read_csv('sample_video_game_reviews.csv')\n",
    "clean_df1['title'] = clean_df1['title'].astype(str)\n",
    "clean_df1['text'] = clean_df1['text'].astype(str)\n",
    "clean_df1['title_wordcount'] = clean_df1['title'].apply(lambda x: len(x.split()))\n",
    "clean_df1['text_wordcount'] = clean_df1['text'].apply(lambda x: len(x.split())) \n",
    "X = clean_df1[['title', 'text', 'helpful_vote', 'has_review_image', 'title_wordcount', 'text_wordcount']]\n",
    "y = clean_df1['rating']\n",
    "\n",
    "X_train, X_test, y_train, y_test = train_test_split(X, y, test_size=0.2, random_state=42)\n",
    "X_train.shape, X_test.shape, y_train.shape, y_test.shape"
   ]
  },
  {
   "cell_type": "markdown",
   "metadata": {},
   "source": [
    "## Text Vectorization"
   ]
  },
  {
   "cell_type": "code",
   "execution_count": 2,
   "metadata": {},
   "outputs": [
    {
     "name": "stderr",
     "output_type": "stream",
     "text": [
      "[nltk_data] Downloading package punkt to\n",
      "[nltk_data]     /Users/zhangyihui/nltk_data...\n",
      "[nltk_data]   Package punkt is already up-to-date!\n",
      "[nltk_data] Downloading package stopwords to\n",
      "[nltk_data]     /Users/zhangyihui/nltk_data...\n",
      "[nltk_data]   Package stopwords is already up-to-date!\n"
     ]
    }
   ],
   "source": [
    "import nltk\n",
    "import numpy as np\n",
    "nltk.download('punkt') # downloads you a model\n",
    "\n",
    "nltk.download('stopwords') # <--- this is new\n",
    "from nltk.corpus import stopwords\n",
    "stop = set(stopwords.words('english'))\n",
    "\n",
    "from nltk.tokenize import word_tokenize\n",
    "from nltk.tokenize import sent_tokenize\n",
    "from nltk.stem import PorterStemmer \n",
    "ps = PorterStemmer() \n",
    "\n",
    "# return a list of tokens\n",
    "def pre_processing_by_nltk(doc, stemming = True, need_sent = False):\n",
    "    # step 1: get sentences\n",
    "    sentences = sent_tokenize(doc)\n",
    "    # step 2: get tokens\n",
    "    tokens = []\n",
    "    for sent in sentences:\n",
    "        words = word_tokenize(sent)\n",
    "        # step 3 (optional): stemming\n",
    "        if stemming:\n",
    "            words = [ps.stem(word) for word in words]\n",
    "        if need_sent:\n",
    "            tokens.append(words)\n",
    "        else:\n",
    "            tokens += words\n",
    "    return [w.lower() for w in tokens if w.lower() not in stop]"
   ]
  },
  {
   "cell_type": "markdown",
   "metadata": {},
   "source": [
    "### Count Vectorization For title"
   ]
  },
  {
   "cell_type": "code",
   "execution_count": 18,
   "metadata": {},
   "outputs": [],
   "source": [
    "def binary_feature_extractor(doc, vocab, IDF):\n",
    "    tokens = pre_processing_by_nltk(doc)\n",
    "    for i, token in enumerate(tokens):\n",
    "        if token not in vocab:\n",
    "            tokens[i] = '<UNK>'\n",
    "    x = [0] * len(vocab)\n",
    "    for token in set(tokens):\n",
    "        token_id = vocab[token]\n",
    "        x[token_id] = 1 # this will be a dense matrix\n",
    "    return x"
   ]
  },
  {
   "cell_type": "code",
   "execution_count": 19,
   "metadata": {},
   "outputs": [
    {
     "name": "stderr",
     "output_type": "stream",
     "text": [
      "100%|██████████| 200000/200000 [00:11<00:00, 16905.34it/s]\n"
     ]
    },
    {
     "name": "stdout",
     "output_type": "stream",
     "text": [
      "17751 1110\n"
     ]
    },
    {
     "name": "stderr",
     "output_type": "stream",
     "text": [
      "100%|██████████| 200000/200000 [00:14<00:00, 13911.68it/s]\n",
      "100%|██████████| 50000/50000 [00:03<00:00, 14284.80it/s]\n"
     ]
    }
   ],
   "source": [
    "from collections import defaultdict\n",
    "from tqdm import tqdm\n",
    "DF = defaultdict(float)\n",
    "for doc in tqdm(X_train['title']):\n",
    "    tokens = pre_processing_by_nltk(doc)\n",
    "    for token in set(tokens):\n",
    "        DF[token] += 1\n",
    "\n",
    "from math import log\n",
    "IDF, vocab = dict(), dict()\n",
    "for token in DF:\n",
    "    if DF[token] < 50:\n",
    "        # this becomes an unk\n",
    "        pass\n",
    "    else:\n",
    "        vocab[token] = len(vocab)\n",
    "        IDF[token] = log(1 + len(X_train['title']) / DF[token])\n",
    "IDF['<UNK>'] = 1\n",
    "vocab['<UNK>'] = len(vocab)\n",
    "print(len(DF), len(vocab))\n",
    "\n",
    "X_train_title3 = []\n",
    "for doc in tqdm(X_train['title']):\n",
    "    X_train_title3.append(binary_feature_extractor(doc, vocab, IDF))\n",
    "X_train_title3 = np.array(X_train_title3)\n",
    "\n",
    "X_test_title3 = []\n",
    "for doc in tqdm(X_test['title']):\n",
    "    X_test_title3.append(binary_feature_extractor(doc, vocab, IDF))\n",
    "X_test_title3 = np.array(X_test_title3)"
   ]
  },
  {
   "cell_type": "markdown",
   "metadata": {},
   "source": [
    "### Count Vectorization For text"
   ]
  },
  {
   "cell_type": "code",
   "execution_count": 20,
   "metadata": {},
   "outputs": [
    {
     "name": "stderr",
     "output_type": "stream",
     "text": [
      "100%|██████████| 200000/200000 [01:22<00:00, 2434.36it/s]\n"
     ]
    },
    {
     "name": "stdout",
     "output_type": "stream",
     "text": [
      "75961 4204\n"
     ]
    },
    {
     "name": "stderr",
     "output_type": "stream",
     "text": [
      "100%|██████████| 200000/200000 [01:36<00:00, 2069.21it/s]\n",
      "100%|██████████| 50000/50000 [00:04<00:00, 12139.79it/s]\n"
     ]
    }
   ],
   "source": [
    "from collections import defaultdict\n",
    "from tqdm import tqdm\n",
    "DF = defaultdict(float)\n",
    "for doc in tqdm(X_train['text']):\n",
    "    tokens = pre_processing_by_nltk(doc)\n",
    "    for token in set(tokens):\n",
    "        DF[token] += 1\n",
    "\n",
    "from math import log\n",
    "IDF, vocab = dict(), dict()\n",
    "for token in DF:\n",
    "    if DF[token] < 50:\n",
    "        # this becomes an unk\n",
    "        pass\n",
    "    else:\n",
    "        vocab[token] = len(vocab)\n",
    "        IDF[token] = log(1 + len(X_train['text']) / DF[token])\n",
    "IDF['<UNK>'] = 1\n",
    "vocab['<UNK>'] = len(vocab)\n",
    "print(len(DF), len(vocab))\n",
    "\n",
    "X_train_text3 = []\n",
    "for doc in tqdm(X_train['text']):\n",
    "    X_train_text3.append(binary_feature_extractor(doc, vocab, IDF))\n",
    "X_train_text3 = np.array(X_train_text3)\n",
    "\n",
    "X_test_text3 = []\n",
    "for doc in tqdm(X_test['title']):\n",
    "    X_test_text3.append(binary_feature_extractor(doc, vocab, IDF))\n",
    "X_test_text3 = np.array(X_test_text3)"
   ]
  },
  {
   "cell_type": "markdown",
   "metadata": {},
   "source": [
    "### TF-IDF Vectorization For title"
   ]
  },
  {
   "cell_type": "code",
   "execution_count": 3,
   "metadata": {},
   "outputs": [],
   "source": [
    "def tfidf_feature_extractor(doc, vocab, IDF):\n",
    "    tokens = pre_processing_by_nltk(doc)\n",
    "    for i, token in enumerate(tokens):\n",
    "        if token not in vocab:\n",
    "            tokens[i] = '<UNK>'\n",
    "    TF = defaultdict(int)\n",
    "    for token in tokens:\n",
    "        TF[token] += 1\n",
    "    x = [0] * len(vocab)\n",
    "    for token in set(tokens):\n",
    "        tfidf = log(TF[token] + 1) * IDF[token]\n",
    "        token_id = vocab[token]\n",
    "#         print(token, TF[token], IDF[token])\n",
    "        x[token_id] = tfidf # this will be a dense matrix\n",
    "    return x"
   ]
  },
  {
   "cell_type": "code",
   "execution_count": 4,
   "metadata": {},
   "outputs": [
    {
     "name": "stderr",
     "output_type": "stream",
     "text": [
      "100%|██████████| 200000/200000 [00:11<00:00, 16771.88it/s]\n"
     ]
    },
    {
     "name": "stdout",
     "output_type": "stream",
     "text": [
      "17751 1110\n"
     ]
    },
    {
     "name": "stderr",
     "output_type": "stream",
     "text": [
      "100%|██████████| 200000/200000 [00:14<00:00, 13941.14it/s]\n",
      "100%|██████████| 50000/50000 [00:03<00:00, 15339.83it/s]\n"
     ]
    }
   ],
   "source": [
    "from collections import defaultdict\n",
    "from tqdm import tqdm\n",
    "DF = defaultdict(float)\n",
    "for doc in tqdm(X_train['title']):\n",
    "    tokens = pre_processing_by_nltk(doc)\n",
    "    for token in set(tokens):\n",
    "        DF[token] += 1\n",
    "\n",
    "from math import log\n",
    "IDF, vocab = dict(), dict()\n",
    "for token in DF:\n",
    "    if DF[token] < 50:\n",
    "        # this becomes an unk\n",
    "        pass\n",
    "    else:\n",
    "        vocab[token] = len(vocab)\n",
    "        IDF[token] = log(1 + len(X_train['title']) / DF[token])\n",
    "IDF['<UNK>'] = 1\n",
    "vocab['<UNK>'] = len(vocab)\n",
    "print(len(DF), len(vocab))\n",
    "\n",
    "X_train_title = []\n",
    "for doc in tqdm(X_train['title']):\n",
    "    X_train_title.append(tfidf_feature_extractor(doc, vocab, IDF))\n",
    "X_train_title = np.array(X_train_title)\n",
    "\n",
    "X_test_title = []\n",
    "for doc in tqdm(X_test['title']):\n",
    "    X_test_title.append(tfidf_feature_extractor(doc, vocab, IDF))\n",
    "X_test_title = np.array(X_test_title)"
   ]
  },
  {
   "cell_type": "markdown",
   "metadata": {},
   "source": [
    "### TF-IDF Vectorization For text"
   ]
  },
  {
   "cell_type": "code",
   "execution_count": 5,
   "metadata": {},
   "outputs": [
    {
     "name": "stderr",
     "output_type": "stream",
     "text": [
      "100%|██████████| 200000/200000 [01:21<00:00, 2462.93it/s]\n"
     ]
    },
    {
     "name": "stdout",
     "output_type": "stream",
     "text": [
      "75961 4204\n"
     ]
    },
    {
     "name": "stderr",
     "output_type": "stream",
     "text": [
      "100%|██████████| 200000/200000 [01:33<00:00, 2137.84it/s]\n",
      "100%|██████████| 50000/50000 [00:22<00:00, 2214.24it/s]\n"
     ]
    }
   ],
   "source": [
    "DF = defaultdict(float)\n",
    "for doc in tqdm(X_train['text']):\n",
    "    tokens = pre_processing_by_nltk(doc)\n",
    "    for token in set(tokens):\n",
    "        DF[token] += 1\n",
    "\n",
    "from math import log\n",
    "IDF, vocab = dict(), dict()\n",
    "for token in DF:\n",
    "    if DF[token] < 50:\n",
    "        # this becomes an unk\n",
    "        pass\n",
    "    else:\n",
    "        vocab[token] = len(vocab)\n",
    "        IDF[token] = log(1 + len(X_train['text']) / DF[token])\n",
    "IDF['<UNK>'] = 1\n",
    "vocab['<UNK>'] = len(vocab)\n",
    "print(len(DF), len(vocab))\n",
    "\n",
    "X_train_text = []\n",
    "for doc in tqdm(X_train['text']):\n",
    "    X_train_text.append(tfidf_feature_extractor(doc, vocab, IDF))\n",
    "X_train_text = np.array(X_train_text)\n",
    "\n",
    "X_test_text = []\n",
    "for doc in tqdm(X_test['text']):\n",
    "    X_test_text.append(tfidf_feature_extractor(doc, vocab, IDF))\n",
    "X_test_text = np.array(X_test_text)"
   ]
  },
  {
   "cell_type": "markdown",
   "metadata": {},
   "source": [
    "### Word2Vec Vectorization For title and text"
   ]
  },
  {
   "cell_type": "code",
   "execution_count": 6,
   "metadata": {},
   "outputs": [],
   "source": [
    "import gensim.downloader as api\n",
    "wv = api.load('word2vec-google-news-300') # the download could take you some time\n",
    "\n",
    "def doc2vec(doc, wv):\n",
    "    vecs = []\n",
    "    for token in doc.split():\n",
    "        try:\n",
    "            vecs.append(wv[token])\n",
    "        except KeyError:\n",
    "            pass\n",
    "    return np.mean(vecs, axis=0)\n",
    "\n",
    "def fix_to_2000d(item):\n",
    "    if isinstance(item, (list, np.ndarray)):\n",
    "        # pad/truncate if needed\n",
    "        item = item[:3000]\n",
    "        if len(item) < 3000:\n",
    "            item = np.concatenate([item, [0.0]*(3000 - len(item))])\n",
    "    else:\n",
    "        # item is a scalar\n",
    "        # Maybe you want a 2000D vector of zeros?\n",
    "        new_item = np.zeros(3000, dtype=float)\n",
    "        # or all zeros except the first dimension, etc.\n",
    "        item = new_item\n",
    "    return np.array(item, dtype=np.float32)"
   ]
  },
  {
   "cell_type": "code",
   "execution_count": 7,
   "metadata": {},
   "outputs": [
    {
     "name": "stderr",
     "output_type": "stream",
     "text": [
      "  0%|          | 0/200000 [00:00<?, ?it/s]/Users/zhangyihui/miniforge3/envs/dsc80/lib/python3.8/site-packages/numpy/core/fromnumeric.py:3464: RuntimeWarning: Mean of empty slice.\n",
      "  return _methods._mean(a, axis=axis, dtype=dtype,\n",
      "/Users/zhangyihui/miniforge3/envs/dsc80/lib/python3.8/site-packages/numpy/core/_methods.py:192: RuntimeWarning: invalid value encountered in scalar divide\n",
      "  ret = ret.dtype.type(ret / rcount)\n",
      "100%|██████████| 200000/200000 [00:02<00:00, 74498.44it/s]\n",
      "100%|██████████| 50000/50000 [00:00<00:00, 69299.78it/s]\n",
      "100%|██████████| 200000/200000 [00:10<00:00, 19632.52it/s]\n",
      "100%|██████████| 50000/50000 [00:02<00:00, 19892.97it/s]\n"
     ]
    }
   ],
   "source": [
    "from tqdm import tqdm\n",
    "X_train_title2 = []\n",
    "for doc in tqdm(X_train['title']):\n",
    "    X_train_title2.append(doc2vec(doc, wv))\n",
    "cleaned = []\n",
    "for row in X_train_title2:\n",
    "    fixed_row = fix_to_2000d(row)\n",
    "    cleaned.append(fixed_row)\n",
    "X_train_title2 = np.stack(cleaned, axis=0)\n",
    "\n",
    "X_test_title2 = []\n",
    "for doc in tqdm(X_test['title']):\n",
    "    X_test_title2.append(doc2vec(doc, wv))\n",
    "cleaned = []\n",
    "for row in X_test_title2:\n",
    "    fixed_row = fix_to_2000d(row)\n",
    "    cleaned.append(fixed_row)\n",
    "X_test_title2 = np.stack(cleaned, axis=0)\n",
    "\n",
    "X_train_text2 = []\n",
    "for doc in tqdm(X_train['text']):\n",
    "    X_train_text2.append(doc2vec(doc, wv))\n",
    "cleaned = []\n",
    "for row in X_train_text2:\n",
    "    fixed_row = fix_to_2000d(row)\n",
    "    cleaned.append(fixed_row)\n",
    "X_train_text2 = np.stack(cleaned, axis=0)\n",
    "\n",
    "X_test_text2 = []\n",
    "for doc in tqdm(X_test['text']):\n",
    "    X_test_text2.append(doc2vec(doc, wv))\n",
    "cleaned = []\n",
    "for row in X_test_text2:\n",
    "    fixed_row = fix_to_2000d(row)\n",
    "    cleaned.append(fixed_row)\n",
    "X_test_text2 = np.stack(cleaned, axis=0)"
   ]
  },
  {
   "cell_type": "code",
   "execution_count": 11,
   "metadata": {},
   "outputs": [
    {
     "name": "stdout",
     "output_type": "stream",
     "text": [
      "X_train_title shape: (200000, 1110) float64\n",
      "X_train_text shape: (200000, 4204) float64\n",
      "X_train_title2 shape: (200000, 3000) float32\n",
      "X_train_text2 shape: (200000, 3000) float32\n",
      "X_test_title shape: (50000, 1110) float64\n",
      "X_test_text shape: (50000, 4204) float64\n",
      "X_test_title2 shape: (50000, 3000) float32\n",
      "X_test_text2 shape: (50000, 3000) float32\n",
      "X_train_title3 shape: (200000, 1110) int64\n",
      "X_train_text3 shape: (200000, 4204) int64\n",
      "X_test_title3 shape: (50000, 1110) int64\n",
      "X_test_text3 shape: (50000, 4204) int64\n"
     ]
    }
   ],
   "source": [
    "print(\"X_train_title shape:\", X_train_title.shape, X_train_title.dtype)\n",
    "print(\"X_train_text shape:\", X_train_text.shape, X_train_text.dtype)\n",
    "print(\"X_train_title2 shape:\", X_train_title2.shape, X_train_title2.dtype)\n",
    "print(\"X_train_text2 shape:\", X_train_text2.shape, X_train_text2.dtype)\n",
    "print(\"X_test_title shape:\", X_test_title.shape, X_test_title.dtype)\n",
    "print(\"X_test_text shape:\", X_test_text.shape, X_test_text.dtype)\n",
    "print(\"X_test_title2 shape:\", X_test_title2.shape, X_test_title2.dtype)\n",
    "print(\"X_test_text2 shape:\", X_test_text2.shape, X_test_text2.dtype)\n",
    "print(\"X_train_title3 shape:\", X_train_title3.shape, X_train_title3.dtype)\n",
    "print(\"X_train_text3 shape:\", X_train_text3.shape, X_train_text3.dtype)\n",
    "print(\"X_test_title3 shape:\", X_test_title3.shape, X_test_title3.dtype)\n",
    "print(\"X_test_text3 shape:\", X_test_text3.shape, X_test_text3.dtype)"
   ]
  },
  {
   "cell_type": "markdown",
   "metadata": {},
   "source": [
    "## Model Training"
   ]
  },
  {
   "cell_type": "code",
   "execution_count": 6,
   "metadata": {},
   "outputs": [],
   "source": [
    "### transform the rating to 0, 1, 2 from -1, 0, 1\n",
    "y_train = y_train.replace({-1: 0, 0: 1, 1: 2})\n",
    "y_test = y_test.replace({-1: 0, 0: 1, 1: 2})"
   ]
  },
  {
   "cell_type": "markdown",
   "metadata": {},
   "source": [
    "### Count + Logistic Regression"
   ]
  },
  {
   "cell_type": "code",
   "execution_count": 7,
   "metadata": {},
   "outputs": [],
   "source": [
    "from sklearn.linear_model import LogisticRegression\n",
    "from sklearn.metrics import accuracy_score, f1_score\n",
    "\n",
    "X_train_count = np.concatenate([X_train_title3, X_train_text3], axis=1)\n",
    "X_test_count = np.concatenate([X_test_title3, X_test_text3], axis=1)"
   ]
  },
  {
   "cell_type": "code",
   "execution_count": 8,
   "metadata": {},
   "outputs": [
    {
     "name": "stderr",
     "output_type": "stream",
     "text": [
      "/Users/zhangyihui/miniforge3/envs/dsc80/lib/python3.8/site-packages/sklearn/linear_model/_logistic.py:814: ConvergenceWarning: lbfgs failed to converge (status=1):\n",
      "STOP: TOTAL NO. of ITERATIONS REACHED LIMIT.\n",
      "\n",
      "Increase the number of iterations (max_iter) or scale the data as shown in:\n",
      "    https://scikit-learn.org/stable/modules/preprocessing.html\n",
      "Please also refer to the documentation for alternative solver options:\n",
      "    https://scikit-learn.org/stable/modules/linear_model.html#logistic-regression\n",
      "  n_iter_i = _check_optimize_result(\n"
     ]
    },
    {
     "name": "stdout",
     "output_type": "stream",
     "text": [
      "Accuracy: 0.7683\n",
      "F1 Score: 0.6382784377692804\n"
     ]
    }
   ],
   "source": [
    "lr = LogisticRegression(random_state=42)\n",
    "lr.fit(X_train_count, y_train)\n",
    "y_pred = lr.predict(X_test_count)\n",
    "print(\"Accuracy:\", accuracy_score(y_test, y_pred))\n",
    "print(\"F1 Score:\", f1_score(y_test, y_pred, average='macro'))"
   ]
  },
  {
   "cell_type": "markdown",
   "metadata": {},
   "source": [
    "### Count + XGBoost"
   ]
  },
  {
   "cell_type": "code",
   "execution_count": 9,
   "metadata": {},
   "outputs": [
    {
     "name": "stdout",
     "output_type": "stream",
     "text": [
      "Accuracy: 0.74438\n",
      "F1 Score: 0.5890848435379962\n"
     ]
    }
   ],
   "source": [
    "import xgboost as xgb\n",
    "\n",
    "xbg = xgb.XGBClassifier(\n",
    "    n_estimators=100,\n",
    "    max_depth=6,\n",
    "    learning_rate=0.3,\n",
    "    random_state=42\n",
    ")\n",
    "xbg.fit(X_train_count, y_train)\n",
    "y_pred = xbg.predict(X_test_count)\n",
    "print(\"Accuracy:\", accuracy_score(y_test, y_pred))\n",
    "print(\"F1 Score:\", f1_score(y_test, y_pred, average='macro'))"
   ]
  },
  {
   "cell_type": "markdown",
   "metadata": {},
   "source": [
    "### TD-IDF + Logistic Regression"
   ]
  },
  {
   "cell_type": "code",
   "execution_count": 7,
   "metadata": {},
   "outputs": [],
   "source": [
    "from sklearn.linear_model import LogisticRegression\n",
    "from sklearn.metrics import accuracy_score, f1_score\n",
    "\n",
    "X_train_tfidf = np.concatenate([X_train_title, X_train_text], axis=1)\n",
    "X_test_tfidf = np.concatenate([X_test_title, X_test_text], axis=1)"
   ]
  },
  {
   "cell_type": "code",
   "execution_count": null,
   "metadata": {},
   "outputs": [
    {
     "name": "stderr",
     "output_type": "stream",
     "text": [
      "/Users/zhangyihui/miniforge3/envs/dsc80/lib/python3.8/site-packages/sklearn/linear_model/_logistic.py:814: ConvergenceWarning: lbfgs failed to converge (status=1):\n",
      "STOP: TOTAL NO. of ITERATIONS REACHED LIMIT.\n",
      "\n",
      "Increase the number of iterations (max_iter) or scale the data as shown in:\n",
      "    https://scikit-learn.org/stable/modules/preprocessing.html\n",
      "Please also refer to the documentation for alternative solver options:\n",
      "    https://scikit-learn.org/stable/modules/linear_model.html#logistic-regression\n",
      "  n_iter_i = _check_optimize_result(\n"
     ]
    },
    {
     "name": "stdout",
     "output_type": "stream",
     "text": [
      "Accuracy: 0.81548\n",
      "F1 Score: 0.7357475109189923\n"
     ]
    }
   ],
   "source": [
    "lr = LogisticRegression(random_state=42)\n",
    "lr.fit(X_train_tfidf, y_train)\n",
    "y_pred = lr.predict(X_test_tfidf)\n",
    "print(\"Accuracy:\", accuracy_score(y_test, y_pred))\n",
    "print(\"F1 Score:\", f1_score(y_test, y_pred, average='macro'))"
   ]
  },
  {
   "cell_type": "markdown",
   "metadata": {},
   "source": [
    "### TD-IDF + XGBoost"
   ]
  },
  {
   "cell_type": "code",
   "execution_count": null,
   "metadata": {},
   "outputs": [
    {
     "name": "stdout",
     "output_type": "stream",
     "text": [
      "Accuracy: 0.8045\n",
      "F1 Score: 0.7163353040536875\n"
     ]
    }
   ],
   "source": [
    "import xgboost as xgb\n",
    "\n",
    "xbg = xgb.XGBClassifier(\n",
    "    n_estimators=100,\n",
    "    max_depth=6,\n",
    "    learning_rate=0.3,\n",
    "    random_state=42\n",
    ")\n",
    "xbg.fit(X_train_tfidf, y_train)\n",
    "y_pred = xbg.predict(X_test_tfidf)\n",
    "print(\"Accuracy:\", accuracy_score(y_test, y_pred))\n",
    "print(\"F1 Score:\", f1_score(y_test, y_pred, average='macro'))"
   ]
  },
  {
   "cell_type": "markdown",
   "metadata": {},
   "source": [
    "### Word2Vec + Logistic Regression"
   ]
  },
  {
   "cell_type": "code",
   "execution_count": 26,
   "metadata": {},
   "outputs": [],
   "source": [
    "X_train_w2v = np.concatenate([X_train_title2, X_train_text2], axis=1)\n",
    "X_test_w2v = np.concatenate([X_test_title2, X_test_text2], axis=1)"
   ]
  },
  {
   "cell_type": "code",
   "execution_count": null,
   "metadata": {},
   "outputs": [
    {
     "name": "stderr",
     "output_type": "stream",
     "text": [
      "/Users/zhangyihui/miniforge3/envs/dsc80/lib/python3.8/site-packages/sklearn/linear_model/_logistic.py:814: ConvergenceWarning: lbfgs failed to converge (status=1):\n",
      "STOP: TOTAL NO. of ITERATIONS REACHED LIMIT.\n",
      "\n",
      "Increase the number of iterations (max_iter) or scale the data as shown in:\n",
      "    https://scikit-learn.org/stable/modules/preprocessing.html\n",
      "Please also refer to the documentation for alternative solver options:\n",
      "    https://scikit-learn.org/stable/modules/linear_model.html#logistic-regression\n",
      "  n_iter_i = _check_optimize_result(\n"
     ]
    },
    {
     "name": "stdout",
     "output_type": "stream",
     "text": [
      "Accuracy: 0.78302\n",
      "F1 Score: 0.6825514681503789\n"
     ]
    }
   ],
   "source": [
    "from sklearn.linear_model import LogisticRegression\n",
    "from sklearn.metrics import accuracy_score, f1_score\n",
    "\n",
    "lr = LogisticRegression(random_state=42)\n",
    "lr.fit(X_train_w2v, y_train)\n",
    "y_pred = lr.predict(X_test_w2v)\n",
    "print(\"Accuracy:\", accuracy_score(y_test, y_pred))\n",
    "print(\"F1 Score:\", f1_score(y_test, y_pred, average='macro'))"
   ]
  },
  {
   "cell_type": "markdown",
   "metadata": {},
   "source": [
    "### Word2Vec + XGBoost"
   ]
  },
  {
   "cell_type": "code",
   "execution_count": null,
   "metadata": {},
   "outputs": [
    {
     "name": "stdout",
     "output_type": "stream",
     "text": [
      "Accuracy: 0.8026\n",
      "F1 Score: 0.7165058905153868\n"
     ]
    }
   ],
   "source": [
    "import xgboost as xgb\n",
    "\n",
    "xbg = xgb.XGBClassifier(\n",
    "    n_estimators=100,\n",
    "    max_depth=6,\n",
    "    learning_rate=0.3,\n",
    "    random_state=42\n",
    ")\n",
    "xbg.fit(X_train_w2v, y_train)\n",
    "y_pred = xbg.predict(X_test_w2v)\n",
    "print(\"Accuracy:\", accuracy_score(y_test, y_pred))\n",
    "print(\"F1 Score:\", f1_score(y_test, y_pred, average='macro'))"
   ]
  },
  {
   "cell_type": "markdown",
   "metadata": {},
   "source": [
    "## Adding more features to our best model"
   ]
  },
  {
   "cell_type": "code",
   "execution_count": 8,
   "metadata": {},
   "outputs": [],
   "source": [
    "X_train_final = np.concatenate([X_train_tfidf, np.array(X_train[['has_review_image', 'title_wordcount', 'text_wordcount']])], axis=1)\n",
    "X_test_final = np.concatenate([X_test_tfidf, np.array(X_test[['has_review_image', 'title_wordcount', 'text_wordcount']])], axis=1)"
   ]
  },
  {
   "cell_type": "code",
   "execution_count": 9,
   "metadata": {},
   "outputs": [
    {
     "name": "stderr",
     "output_type": "stream",
     "text": [
      "/Users/zhangyihui/miniforge3/envs/dsc80/lib/python3.8/site-packages/sklearn/linear_model/_logistic.py:814: ConvergenceWarning: lbfgs failed to converge (status=1):\n",
      "STOP: TOTAL NO. of ITERATIONS REACHED LIMIT.\n",
      "\n",
      "Increase the number of iterations (max_iter) or scale the data as shown in:\n",
      "    https://scikit-learn.org/stable/modules/preprocessing.html\n",
      "Please also refer to the documentation for alternative solver options:\n",
      "    https://scikit-learn.org/stable/modules/linear_model.html#logistic-regression\n",
      "  n_iter_i = _check_optimize_result(\n"
     ]
    },
    {
     "name": "stdout",
     "output_type": "stream",
     "text": [
      "Accuracy: 0.81186\n",
      "F1 Score: 0.7301281557670521\n"
     ]
    }
   ],
   "source": [
    "\n",
    "\n",
    "from sklearn.linear_model import LogisticRegression\n",
    "from sklearn.metrics import accuracy_score, f1_score\n",
    "\n",
    "lr = LogisticRegression(random_state=42)\n",
    "lr.fit(X_train_final, y_train)\n",
    "y_pred = lr.predict(X_test_final)\n",
    "print(\"Accuracy:\", accuracy_score(y_test, y_pred))\n",
    "print(\"F1 Score:\", f1_score(y_test, y_pred, average='macro'))"
   ]
  },
  {
   "cell_type": "code",
   "execution_count": 10,
   "metadata": {},
   "outputs": [
    {
     "name": "stdout",
     "output_type": "stream",
     "text": [
      "Accuracy: 0.8076\n",
      "F1 Score: 0.7217369798949688\n"
     ]
    }
   ],
   "source": [
    "import xgboost as xgb\n",
    "\n",
    "xbg = xgb.XGBClassifier(\n",
    "    n_estimators=100,\n",
    "    max_depth=6,\n",
    "    learning_rate=0.3,\n",
    "    random_state=42\n",
    ")\n",
    "\n",
    "xbg.fit(X_train_final, y_train)\n",
    "y_pred = xbg.predict(X_test_final)\n",
    "print(\"Accuracy:\", accuracy_score(y_test, y_pred))\n",
    "print(\"F1 Score:\", f1_score(y_test, y_pred, average='macro'))"
   ]
  },
  {
   "cell_type": "markdown",
   "metadata": {},
   "source": [
    "### TF-IDF + Word2Vec + Logistic Regression"
   ]
  },
  {
   "cell_type": "code",
   "execution_count": 8,
   "metadata": {},
   "outputs": [
    {
     "ename": "",
     "evalue": "",
     "output_type": "error",
     "traceback": [
      "\u001b[1;31mThe Kernel crashed while executing code in the current cell or a previous cell. \n",
      "\u001b[1;31mPlease review the code in the cell(s) to identify a possible cause of the failure. \n",
      "\u001b[1;31mClick <a href='https://aka.ms/vscodeJupyterKernelCrash'>here</a> for more info. \n",
      "\u001b[1;31mView Jupyter <a href='command:jupyter.viewOutput'>log</a> for further details."
     ]
    }
   ],
   "source": [
    "X_train_combine = np.concatenate([X_train_title, X_train_text, X_train_title2, X_train_text2], axis=1)\n",
    "X_test_combine = np.concatenate([X_test_title, X_test_text, X_test_title2, X_test_text2], axis=1)"
   ]
  },
  {
   "cell_type": "code",
   "execution_count": 27,
   "metadata": {},
   "outputs": [
    {
     "ename": "",
     "evalue": "",
     "output_type": "error",
     "traceback": [
      "\u001b[1;31mThe Kernel crashed while executing code in the current cell or a previous cell. \n",
      "\u001b[1;31mPlease review the code in the cell(s) to identify a possible cause of the failure. \n",
      "\u001b[1;31mClick <a href='https://aka.ms/vscodeJupyterKernelCrash'>here</a> for more info. \n",
      "\u001b[1;31mView Jupyter <a href='command:jupyter.viewOutput'>log</a> for further details."
     ]
    }
   ],
   "source": [
    "X_train_combine = np.concatenate([X_train_tfidf, X_train_w2v], axis=1)\n",
    "X_test_combine = np.concatenate([X_test_tfidf, X_test_w2v], axis=1)"
   ]
  },
  {
   "cell_type": "code",
   "execution_count": null,
   "metadata": {},
   "outputs": [],
   "source": [
    "lr = LogisticRegression(random_state=42)\n",
    "lr.fit(X_train_combine, y_train)\n",
    "y_pred = lr.predict(X_test_combine)\n",
    "print(\"Accuracy:\", accuracy_score(y_test, y_pred))\n",
    "print(\"F1 Score:\", f1_score(y_test, y_pred, average='macro'))"
   ]
  },
  {
   "cell_type": "markdown",
   "metadata": {},
   "source": [
    "### TF-IDF + Word2Vec + XGBoost"
   ]
  },
  {
   "cell_type": "code",
   "execution_count": null,
   "metadata": {},
   "outputs": [
    {
     "ename": "",
     "evalue": "",
     "output_type": "error",
     "traceback": [
      "\u001b[1;31mThe Kernel crashed while executing code in the current cell or a previous cell. \n",
      "\u001b[1;31mPlease review the code in the cell(s) to identify a possible cause of the failure. \n",
      "\u001b[1;31mClick <a href='https://aka.ms/vscodeJupyterKernelCrash'>here</a> for more info. \n",
      "\u001b[1;31mView Jupyter <a href='command:jupyter.viewOutput'>log</a> for further details."
     ]
    }
   ],
   "source": [
    "import xgboost as xgb\n",
    "\n",
    "xbg = xgb.XGBClassifier(\n",
    "    n_estimators=100,\n",
    "    max_depth=6,\n",
    "    learning_rate=0.3,\n",
    "    random_state=42\n",
    ")\n",
    "xbg.fit(X_train_combine, y_train)\n",
    "y_pred = xbg.predict(X_test_combine)\n",
    "print(\"Accuracy:\", accuracy_score(y_test, y_pred))\n",
    "print(\"F1 Score:\", f1_score(y_test, y_pred, average='macro'))"
   ]
  },
  {
   "cell_type": "code",
   "execution_count": null,
   "metadata": {},
   "outputs": [],
   "source": []
  }
 ],
 "metadata": {
  "kernelspec": {
   "display_name": "dsc80",
   "language": "python",
   "name": "python3"
  },
  "language_info": {
   "codemirror_mode": {
    "name": "ipython",
    "version": 3
   },
   "file_extension": ".py",
   "mimetype": "text/x-python",
   "name": "python",
   "nbconvert_exporter": "python",
   "pygments_lexer": "ipython3",
   "version": "3.8.18"
  }
 },
 "nbformat": 4,
 "nbformat_minor": 2
}
